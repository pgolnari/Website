{
  "cells": [
    {
      "cell_type": "raw",
      "metadata": {},
      "source": [
        "---\n",
        "title: \"Pedram Golnari, MD\"\n",
        "---"
      ],
      "id": "f7332e28"
    },
    {
      "cell_type": "markdown",
      "metadata": {},
      "source": [
        "```{columns}\n",
        "[column=6]\n",
        "![Image of Pedram Golnari](profile.jpg)\n",
        "\n",
        "Hi, I’m Pedram Golnari.\n",
        "I’m a PhD student in Biomedical & Health Informatics, with a passion for medical research, health informatics, and machine learning.\n",
        "\n",
        "This is my personal website.\n",
        "\n",
        "[column=6]\n",
        "[.list-group]\n",
        "  [aria-label=\"Navigation\"]\n",
        "  [.list-group-item]\n",
        "    [href=\"about.qmd\"] About\n",
        "  [.list-group-item]\n",
        "    [aria-expanded=\"false\" aria-controls=\"publications-submenu\" data-toggle=\"collapse\" href=\"#publications-submenu\"] Publications\n",
        "    [.collapse#publications-submenu]\n",
        "      [.list-group]\n",
        "        [.list-group-item]\n",
        "          [href=\"Publications/Books.qmd\"] Books\n",
        "        [.list-group-item]\n",
        "          [href=\"Publications/Peer_reviewed.qmd\"] Peer-reviewed papers\n",
        "  [.list-group-item]\n",
        "    [href=\"https://pgolnari.github.io/CV-Pedram Golnari.pdf\"] CV\n",
        "  [.list-group-item]\n",
        "    [aria-expanded=\"false\" aria-controls=\"posts-submenu\" data-toggle=\"collapse\" href=\"#posts-submenu\"] Posts\n",
        "    [.collapse#posts-submenu]\n",
        "      [.list-group]\n",
        "        [.list-group-item]\n",
        "          [href=\"Posts/Pre- vs Post-publication Peer Reviews.qmd\"] Pre- vs Post-publication Peer Reviews\n",
        "        [.list-group-item]\n",
        "          [href=\"Posts/Importance of Data Sharing.qmd\"] Importance of Data Sharing\n",
        "        [.list-group-item]\n",
        "          [href=\"Posts/Including Instructions When Sharing Data.qmd\"] Including Instructions When Sharing Data\n"
      ],
      "id": "98b50c96"
    }
  ],
  "metadata": {
    "kernelspec": {
      "name": "python3",
      "language": "python",
      "display_name": "Python 3 (ipykernel)"
    }
  },
  "nbformat": 4,
  "nbformat_minor": 5
}